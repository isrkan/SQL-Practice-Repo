{
 "cells": [
  {
   "cell_type": "markdown",
   "id": "8ac70e7c-3143-4c0c-addb-0992f14cbdea",
   "metadata": {},
   "source": [
    "## Diving into PostgreSQL: Practicing SQL queries with Python"
   ]
  },
  {
   "cell_type": "code",
   "execution_count": 1,
   "id": "34bae36b-2255-4d70-869f-b77c50ba6f7c",
   "metadata": {},
   "outputs": [],
   "source": [
    "import psycopg2\n",
    "import pandas as pd"
   ]
  },
  {
   "cell_type": "markdown",
   "id": "4ab4dd7d-b4b9-416a-a612-c858514776fa",
   "metadata": {},
   "source": [
    "#### List all databases in the PostgreSQL server"
   ]
  },
  {
   "cell_type": "code",
   "execution_count": 3,
   "id": "9f9c36b8-b5a9-4b49-b80d-b4478d8e3f4f",
   "metadata": {},
   "outputs": [
    {
     "name": "stdout",
     "output_type": "stream",
     "text": [
      "postgres\n",
      "template1\n",
      "template0\n",
      "playtika\n",
      "retailprices\n"
     ]
    }
   ],
   "source": [
    "# Connect to the PostgreSQL server\n",
    "conn = psycopg2.connect(\n",
    "    host=\"localhost\",\n",
    "    user=\"postgres\",\n",
    "    password=\"xxx\"\n",
    ")\n",
    "\n",
    "# Open a cursor to perform database operations\n",
    "cur = conn.cursor()\n",
    "\n",
    "# Execute the SQL command to list all databases\n",
    "cur.execute(\"SELECT datname FROM pg_database\")\n",
    "\n",
    "# Fetch all rows and print them\n",
    "rows = cur.fetchall()\n",
    "for row in rows:\n",
    "    print(row[0])\n",
    "    \n",
    "# Close the cursor and the connection\n",
    "cur.close()\n",
    "conn.close()"
   ]
  },
  {
   "cell_type": "markdown",
   "id": "f37a9db8-7153-4957-ac35-11f1160be049",
   "metadata": {},
   "source": [
    "#### Create new database"
   ]
  },
  {
   "cell_type": "code",
   "execution_count": 2,
   "id": "a24bbb99-d125-4bb8-be56-f9d41ac9d855",
   "metadata": {},
   "outputs": [],
   "source": [
    "# Connect to PostgreSQL server\n",
    "conn = psycopg2.connect(\n",
    "    host=\"localhost\",\n",
    "    user=\"postgres\",\n",
    "    password=\"xxx\",\n",
    "    port=\"5432\",\n",
    "    database=\"postgres\",\n",
    "    connect_timeout=3,\n",
    ")\n",
    "\n",
    "# Set autocommit mode\n",
    "conn.autocommit = True\n",
    "\n",
    "# Create a new database\n",
    "cur = conn.cursor()\n",
    "cur.execute(\"CREATE DATABASE retailprices\")\n",
    "\n",
    "# Close cursor and connection\n",
    "cur.close()\n",
    "conn.close()"
   ]
  },
  {
   "cell_type": "markdown",
   "id": "38577b60-eea8-4a3f-8f73-505ba7a60d73",
   "metadata": {},
   "source": [
    "#### List all tables in the database"
   ]
  },
  {
   "cell_type": "code",
   "execution_count": 6,
   "id": "112ce2f6-452b-45da-a6cf-28e4387943ab",
   "metadata": {},
   "outputs": [
    {
     "name": "stdout",
     "output_type": "stream",
     "text": [
      "districts\n",
      "Table: districts\n",
      "('5.0', 'TEL AVIV', 'תל אביב')\n",
      "('4.0', 'CENTRAL', 'המרכז')\n",
      "subdistricts\n",
      "Table: subdistricts\n",
      "('51.0', 'TEL AVIV', 'תל אביב', '5.0')\n",
      "('53.0', 'TEL AVIV - HOLON', 'תל אביב - חולון', '5.0')\n",
      "cities\n",
      "Table: cities\n",
      "('5000.0', 'TEL AVIV - YAFO', 'תל אביב -יפו', '51.0')\n",
      "('6200.0', 'BAT YAM', 'בת ים', '53.0')\n",
      "chains\n",
      "Table: chains\n",
      "('10', 'דור אלון')\n",
      "('11', 'אושר עד')\n",
      "subchains\n",
      "Table: subchains\n",
      "('10', 'AM:PM', '10')\n",
      "('11', 'אושר עד', '11')\n",
      "subchaintype\n",
      "Table: subchaintype\n",
      "('1', 'נוחות', '10')\n",
      "('2', 'HD', '11')\n",
      "stores\n",
      "Table: stores\n",
      "('1001', \"אבן גבירול (פינת ז'בוטינסקי)\", '10', '5000.0')\n",
      "('1002', 'אבן גבירול 14', '10', '5000.0')\n"
     ]
    }
   ],
   "source": [
    "# Connect to the database\n",
    "conn = psycopg2.connect(\n",
    "    host=\"localhost\",\n",
    "    database=\"retailprices\",\n",
    "    user=\"postgres\",\n",
    "    password=\"xxx\"\n",
    ")\n",
    "\n",
    "# Open a cursor to perform database operations\n",
    "cur = conn.cursor()\n",
    "\n",
    "# Query to get all table names from the current schema\n",
    "cur.execute(\"SELECT table_name FROM information_schema.tables WHERE table_schema = 'public'\")\n",
    "\n",
    "# Fetch all the rows in a list of tuples\n",
    "tables = cur.fetchall()\n",
    "\n",
    "# Print the table names\n",
    "for table in tables:\n",
    "    table_name = table[0]\n",
    "    print(table_name)\n",
    "    cur.execute(f\"SELECT * FROM {table_name} LIMIT 2\")\n",
    "    rows = cur.fetchall()\n",
    "    print(f\"Table: {table_name}\")\n",
    "    for row in rows:\n",
    "        print(row)\n",
    "\n",
    "# Close the cursor and the connection\n",
    "cur.close()\n",
    "conn.close()"
   ]
  },
  {
   "cell_type": "markdown",
   "id": "d9734fd9-adcd-4695-b12e-74e66d2aac45",
   "metadata": {},
   "source": [
    "#### Insert new tables to database"
   ]
  },
  {
   "cell_type": "code",
   "execution_count": 4,
   "id": "c1b34cb9-8194-48a6-9f39-4c02286218ab",
   "metadata": {},
   "outputs": [
    {
     "data": {
      "text/html": [
       "<div>\n",
       "<style scoped>\n",
       "    .dataframe tbody tr th:only-of-type {\n",
       "        vertical-align: middle;\n",
       "    }\n",
       "\n",
       "    .dataframe tbody tr th {\n",
       "        vertical-align: top;\n",
       "    }\n",
       "\n",
       "    .dataframe thead th {\n",
       "        text-align: right;\n",
       "    }\n",
       "</style>\n",
       "<table border=\"1\" class=\"dataframe\">\n",
       "  <thead>\n",
       "    <tr style=\"text-align: right;\">\n",
       "      <th></th>\n",
       "      <th>ChainID</th>\n",
       "      <th>ChainName</th>\n",
       "      <th>SubChainID</th>\n",
       "      <th>SubChainName</th>\n",
       "      <th>SubChainTypeID</th>\n",
       "      <th>SubChainTypeName</th>\n",
       "      <th>StoreID</th>\n",
       "      <th>StoreName</th>\n",
       "      <th>CityName</th>\n",
       "      <th>DistrictName</th>\n",
       "      <th>...</th>\n",
       "      <th>MetropolitanAreaID</th>\n",
       "      <th>MetropolitanAreaName</th>\n",
       "      <th>MunicipalStatusID</th>\n",
       "      <th>MunicipalStatusName</th>\n",
       "      <th>YishuvTypeID</th>\n",
       "      <th>YishuvTypeName</th>\n",
       "      <th>RegionalCouncilID</th>\n",
       "      <th>RegionalCouncilName</th>\n",
       "      <th>Unnamed: 40</th>\n",
       "      <th>StatisticalAreaPopulation</th>\n",
       "    </tr>\n",
       "  </thead>\n",
       "  <tbody>\n",
       "    <tr>\n",
       "      <th>0</th>\n",
       "      <td>10</td>\n",
       "      <td>דור אלון</td>\n",
       "      <td>10</td>\n",
       "      <td>AM:PM</td>\n",
       "      <td>1</td>\n",
       "      <td>נוחות</td>\n",
       "      <td>1001</td>\n",
       "      <td>אבן גבירול (פינת ז'בוטינסקי)</td>\n",
       "      <td>TEL AVIV - YAFO</td>\n",
       "      <td>TEL AVIV</td>\n",
       "      <td>...</td>\n",
       "      <td>110.0</td>\n",
       "      <td>תל אביב - גלעין</td>\n",
       "      <td>0.0</td>\n",
       "      <td>עירייה</td>\n",
       "      <td>130.0</td>\n",
       "      <td>יישוב עירוני</td>\n",
       "      <td>NaN</td>\n",
       "      <td>NaN</td>\n",
       "      <td>NaN</td>\n",
       "      <td>2621.179605</td>\n",
       "    </tr>\n",
       "    <tr>\n",
       "      <th>1</th>\n",
       "      <td>10</td>\n",
       "      <td>דור אלון</td>\n",
       "      <td>10</td>\n",
       "      <td>AM:PM</td>\n",
       "      <td>1</td>\n",
       "      <td>נוחות</td>\n",
       "      <td>1002</td>\n",
       "      <td>אבן גבירול 14</td>\n",
       "      <td>TEL AVIV - YAFO</td>\n",
       "      <td>TEL AVIV</td>\n",
       "      <td>...</td>\n",
       "      <td>110.0</td>\n",
       "      <td>תל אביב - גלעין</td>\n",
       "      <td>0.0</td>\n",
       "      <td>עירייה</td>\n",
       "      <td>130.0</td>\n",
       "      <td>יישוב עירוני</td>\n",
       "      <td>NaN</td>\n",
       "      <td>NaN</td>\n",
       "      <td>NaN</td>\n",
       "      <td>1391.667926</td>\n",
       "    </tr>\n",
       "  </tbody>\n",
       "</table>\n",
       "<p>2 rows × 42 columns</p>\n",
       "</div>"
      ],
      "text/plain": [
       "   ChainID ChainName  SubChainID SubChainName  SubChainTypeID  \\\n",
       "0       10  דור אלון          10        AM:PM               1   \n",
       "1       10  דור אלון          10        AM:PM               1   \n",
       "\n",
       "  SubChainTypeName  StoreID                     StoreName         CityName  \\\n",
       "0            נוחות     1001  אבן גבירול (פינת ז'בוטינסקי)  TEL AVIV - YAFO   \n",
       "1            נוחות     1002                 אבן גבירול 14  TEL AVIV - YAFO   \n",
       "\n",
       "  DistrictName  ... MetropolitanAreaID MetropolitanAreaName  \\\n",
       "0     TEL AVIV  ...              110.0      תל אביב - גלעין   \n",
       "1     TEL AVIV  ...              110.0      תל אביב - גלעין   \n",
       "\n",
       "   MunicipalStatusID MunicipalStatusName  YishuvTypeID YishuvTypeName  \\\n",
       "0                0.0              עירייה         130.0   יישוב עירוני   \n",
       "1                0.0              עירייה         130.0   יישוב עירוני   \n",
       "\n",
       "   RegionalCouncilID RegionalCouncilName  Unnamed: 40  \\\n",
       "0                NaN                 NaN          NaN   \n",
       "1                NaN                 NaN          NaN   \n",
       "\n",
       "   StatisticalAreaPopulation  \n",
       "0                2621.179605  \n",
       "1                1391.667926  \n",
       "\n",
       "[2 rows x 42 columns]"
      ]
     },
     "execution_count": 4,
     "metadata": {},
     "output_type": "execute_result"
    }
   ],
   "source": [
    "# Read the Excel file into a pandas dataframe\n",
    "all_data = pd.read_csv('C:/Users/israe/Documents/subjects/thesis/data/other datasets/Store_data_git.csv')\n",
    "\n",
    "district_data = all_data[['DistrictID','DistrictName','DistrictNameHebrew']].drop_duplicates().reset_index(drop=True)\n",
    "sub_district_data = all_data[['SubDistrictID','SubDistrictName','SubDistrictNameHebrew','DistrictID']].drop_duplicates().reset_index(drop=True)\n",
    "city_data = all_data[['CityID','CityName','CityNameHebrew','SubDistrictID']].drop_duplicates().reset_index(drop=True)\n",
    "\n",
    "chain_data = all_data[['ChainID','ChainName']].drop_duplicates().reset_index(drop=True)\n",
    "sub_chain_data = all_data[['SubChainID','SubChainName','ChainID']].drop_duplicates().reset_index(drop=True)\n",
    "sub_chain_type = all_data[['SubChainTypeID','SubChainTypeName','SubChainID']].drop_duplicates().reset_index(drop=True)\n",
    "\n",
    "store_data = all_data[['StoreID','StoreName','SubChainID','CityID']].drop_duplicates().reset_index(drop=True)\n",
    "\n",
    "all_data[:2]"
   ]
  },
  {
   "cell_type": "code",
   "execution_count": 5,
   "id": "9ef0564c-0e9d-4313-abd8-764f6de717d6",
   "metadata": {},
   "outputs": [],
   "source": [
    "# Connect to the PostgreSQL database\n",
    "conn = psycopg2.connect(\n",
    "    host=\"localhost\",\n",
    "    database=\"retailprices\",\n",
    "    user=\"postgres\",\n",
    "    password=\"xxx\"\n",
    ")\n",
    "\n",
    "# Insert the data from the dataframe into a table in the database\n",
    "cur = conn.cursor()\n",
    "\n",
    "cur.execute('CREATE TABLE districts (DistrictID varchar, DistrictName varchar, DistrictNameHebrew varchar)')\n",
    "for row in district_data.itertuples(index=False):\n",
    "    cur.execute('INSERT INTO districts (DistrictID, DistrictName, DistrictNameHebrew) VALUES (%s, %s, %s)', row)\n",
    "\n",
    "cur.execute('CREATE TABLE subdistricts (SubDistrictID varchar, SubDistrictName varchar, SubDistrictNameHebrew varchar, DistrictID varchar)')\n",
    "for row in sub_district_data.itertuples(index=False):\n",
    "    cur.execute('INSERT INTO subdistricts (SubDistrictID, SubDistrictName, SubDistrictNameHebrew, DistrictID) VALUES (%s, %s, %s, %s)', row)\n",
    "\n",
    "cur.execute('CREATE TABLE cities (CityID varchar, CityName varchar, CityNameHebrew varchar, SubDistrictID varchar)')\n",
    "for row in city_data.itertuples(index=False):\n",
    "    cur.execute('INSERT INTO cities (CityID, CityName, CityNameHebrew, SubDistrictID) VALUES (%s, %s, %s, %s)', row)\n",
    "\n",
    "\n",
    "cur.execute('CREATE TABLE chains (ChainID varchar, ChainName varchar)')\n",
    "for row in chain_data.itertuples(index=False):\n",
    "    cur.execute('INSERT INTO chains (ChainID, ChainName) VALUES (%s, %s)', row)\n",
    "    \n",
    "cur.execute('CREATE TABLE subchains (SubChainID varchar, SubChainName varchar, ChainID varchar)')\n",
    "for row in sub_chain_data.itertuples(index=False):\n",
    "    cur.execute('INSERT INTO subchains (SubChainID, SubChainName, ChainID) VALUES (%s, %s, %s)', row)\n",
    "\n",
    "cur.execute('CREATE TABLE subchaintype (SubChainTypeID varchar, SubChainTypeName varchar, SubChainID varchar)')\n",
    "for row in sub_chain_type.itertuples(index=False):\n",
    "    cur.execute('INSERT INTO subchaintype (SubChainTypeID, SubChainTypeName, SubChainID) VALUES (%s, %s, %s)', row)\n",
    "\n",
    "cur.execute('CREATE TABLE stores (StoreID varchar, StoreName varchar, SubChainID varchar, CityID varchar)')\n",
    "for row in store_data.itertuples(index=False):\n",
    "    cur.execute('INSERT INTO stores (StoreID, StoreName, SubChainID, CityID) VALUES (%s, %s, %s, %s)', row)\n",
    "    \n",
    "conn.commit()\n",
    "\n",
    "# Close the connection\n",
    "cur.close()\n",
    "conn.close()"
   ]
  },
  {
   "cell_type": "markdown",
   "id": "39ef82ed-9198-491c-b83a-9e14de8618a0",
   "metadata": {},
   "source": [
    "#### SQL queries"
   ]
  },
  {
   "cell_type": "code",
   "execution_count": 7,
   "id": "57ad9d19-93f9-4c2d-b58d-b5253bf3e60d",
   "metadata": {},
   "outputs": [],
   "source": [
    "# Connect to the PostgreSQL database\n",
    "conn = psycopg2.connect(\n",
    "    host=\"localhost\",\n",
    "    database=\"retailprices\",\n",
    "    user=\"postgres\",\n",
    "    password=\"xxx\"\n",
    ")\n",
    "\n",
    "cur = conn.cursor()"
   ]
  },
  {
   "cell_type": "code",
   "execution_count": 8,
   "id": "fac45e09-e169-4946-a1e0-3aff13e29830",
   "metadata": {},
   "outputs": [
    {
     "name": "stdout",
     "output_type": "stream",
     "text": [
      "Select all records from the \"districts\" table:\n",
      "('5.0', 'TEL AVIV', 'תל אביב')\n",
      "('4.0', 'CENTRAL', 'המרכז')\n",
      "('6.0', 'SOUTH', 'הדרום')\n",
      "('1.0', 'JERUSALEM', 'ירושלים')\n",
      "('3.0', 'HAIFA', 'חיפה')\n",
      "('2.0', 'NORTH', 'הצפון')\n",
      "('7.0', 'JUDEA AND SAMARIA', 'אזור יהודה והשומרון')\n",
      "('NaN', 'NaN', '0')\n"
     ]
    }
   ],
   "source": [
    "print('Select all records from the \"districts\" table:')\n",
    "cur.execute('SELECT * FROM districts')\n",
    "rows = cur.fetchall()\n",
    "for row in rows:\n",
    "    print(row)"
   ]
  },
  {
   "cell_type": "code",
   "execution_count": 9,
   "id": "305cd291-bfdd-4c74-b687-1491f03e79f0",
   "metadata": {},
   "outputs": [
    {
     "name": "stdout",
     "output_type": "stream",
     "text": [
      "Delete NaN records from the \"districts\" table:\n",
      "('5.0', 'TEL AVIV', 'תל אביב')\n",
      "('4.0', 'CENTRAL', 'המרכז')\n",
      "('6.0', 'SOUTH', 'הדרום')\n",
      "('1.0', 'JERUSALEM', 'ירושלים')\n",
      "('3.0', 'HAIFA', 'חיפה')\n",
      "('2.0', 'NORTH', 'הצפון')\n",
      "('7.0', 'JUDEA AND SAMARIA', 'אזור יהודה והשומרון')\n"
     ]
    }
   ],
   "source": [
    "print('Delete NaN records from the \"districts\" table:')\n",
    "cur.execute('DELETE FROM districts WHERE DistrictID = %s', ('NaN',))\n",
    "conn.commit()\n",
    "cur.execute('SELECT * FROM districts')\n",
    "rows = cur.fetchall()\n",
    "for row in rows:\n",
    "    print(row)"
   ]
  },
  {
   "cell_type": "code",
   "execution_count": 10,
   "id": "e17d66da-ef4c-494b-b820-a50f07c1ca68",
   "metadata": {},
   "outputs": [
    {
     "name": "stdout",
     "output_type": "stream",
     "text": [
      "Select the names of all cities in the subdistrict of Tel Aviv:\n",
      "TEL AVIV - YAFO\n",
      "HERZLIYYA\n",
      "RAMAT HASHARON\n",
      "GELIL YAM\n"
     ]
    }
   ],
   "source": [
    "print('Select the names of all cities in the subdistrict of Tel Aviv:')\n",
    "cur.execute('SELECT CityName FROM cities WHERE SubDistrictID = %s', ('51.0',))\n",
    "rows = cur.fetchall()\n",
    "for row in rows:\n",
    "    print(row[0])"
   ]
  },
  {
   "cell_type": "code",
   "execution_count": 11,
   "id": "c005e885-9e56-4d25-84a4-1681dd33fd92",
   "metadata": {},
   "outputs": [
    {
     "name": "stdout",
     "output_type": "stream",
     "text": [
      "Update the name of a city in the \"cities\" table:\n",
      "TEL AVIV - YAFO\n",
      "HERZLIYYA\n",
      "RAMAT HASHARON\n",
      "GALIL YAM\n"
     ]
    }
   ],
   "source": [
    "print('Update the name of a city in the \"cities\" table:')\n",
    "cur.execute('UPDATE cities SET CityName = %s WHERE CityName = %s', ('GALIL YAM', 'GELIL YAM'))\n",
    "conn.commit()\n",
    "cur.execute('SELECT CityName FROM cities WHERE SubDistrictID = %s', ('51.0',))\n",
    "rows = cur.fetchall()\n",
    "for row in rows:\n",
    "    print(row[0])"
   ]
  },
  {
   "cell_type": "code",
   "execution_count": 12,
   "id": "8f6584ee-a078-426a-8ccb-7c563cd54962",
   "metadata": {},
   "outputs": [
    {
     "name": "stdout",
     "output_type": "stream",
     "text": [
      "Select all records from the \"subchains\" table where SubChainID starts with \"1\":\n",
      "('AM:PM',)\n",
      "('אושר עד',)\n",
      "('אלונית בקיבוץ ובמושב',)\n",
      "('ויקטורי',)\n",
      "('ויקטורי באינטרנט',)\n",
      "('חצי חינם',)\n",
      "('יוחננוף',)\n",
      "('יינות ביתן בסיטי',)\n",
      "('יינות ביתן',)\n",
      "('יש בשכונה',)\n"
     ]
    }
   ],
   "source": [
    "print('Select all records from the \"subchains\" table where SubChainID starts with \"1\":')\n",
    "cur.execute(\"SELECT SubChainName FROM subchains WHERE SubChainID LIKE '1%'\")\n",
    "rows = cur.fetchall()\n",
    "for row in rows:\n",
    "    print(row)"
   ]
  },
  {
   "cell_type": "code",
   "execution_count": 13,
   "id": "3438f55f-127f-47f5-95ef-8c96d3140c39",
   "metadata": {},
   "outputs": [
    {
     "name": "stdout",
     "output_type": "stream",
     "text": [
      "Select the names of all stores in the \"stores\" table that belong to \"Victory\" ChainID and city ID of Tel Aviv:\n",
      "אוניברסיטת ת\"א\n",
      "דיזנגוף דיזינגוף\n",
      "תל אביב לינקולן\n",
      "תל אביב פלורנטין\n",
      "תחנה מרכזית\n",
      "תל אביב הארבעה\n"
     ]
    }
   ],
   "source": [
    "print('Select the names of all stores in the \"stores\" table that belong to \"Victory\" ChainID and city ID of Tel Aviv:')\n",
    "cur.execute('SELECT StoreName FROM stores WHERE SubChainID = %s AND CityID = %s', ('13', '5000.0'))\n",
    "rows = cur.fetchall()\n",
    "for row in rows:\n",
    "    print(row[0])"
   ]
  },
  {
   "cell_type": "code",
   "execution_count": 14,
   "id": "12af7fdc-b177-47de-ac4a-9132052577af",
   "metadata": {},
   "outputs": [
    {
     "name": "stdout",
     "output_type": "stream",
     "text": [
      "Select the top 10 frequent cities by the number of stores in the \"stores\" table:\n",
      "('TEL AVIV - YAFO', 173)\n",
      "('JERUSALEM', 106)\n",
      "('NESHER', 72)\n",
      "('HAIFA', 67)\n",
      "(\"BE'ER SHEVA\", 44)\n",
      "('NETANYA', 42)\n",
      "('RISHON LEZIYYON', 42)\n",
      "('ASHDOD', 38)\n",
      "('PETAH TIQWA', 37)\n",
      "('BENE BERAQ', 32)\n"
     ]
    }
   ],
   "source": [
    "print('Select the top 10 frequent cities by the number of stores in the \"stores\" table:')\n",
    "cur.execute('''SELECT CityName, COUNT(*) AS num_stores \n",
    "               FROM stores \n",
    "               JOIN cities ON stores.CityID = cities.CityID \n",
    "               WHERE CityName NOT IN (%s, %s) \n",
    "               GROUP BY CityName \n",
    "               ORDER BY num_stores DESC \n",
    "               LIMIT 10''', ('0', 'NaN'))\n",
    "rows = cur.fetchall()\n",
    "for row in rows:\n",
    "    print(row)"
   ]
  },
  {
   "cell_type": "code",
   "execution_count": 15,
   "id": "4f215ad1-617f-4c12-9c61-358335cf0cdf",
   "metadata": {},
   "outputs": [
    {
     "name": "stdout",
     "output_type": "stream",
     "text": [
      "Select the top 5 cities with the highest number of stores in the North district:\n",
      "('AFULA', 12)\n",
      "(\"KARMI'EL\", 11)\n",
      "('TIBERIAS', 11)\n",
      "('NAHARIYYA', 9)\n",
      "('QIRYAT MOTZKIN', 8)\n"
     ]
    }
   ],
   "source": [
    "print('Select the top 5 cities with the highest number of stores in the North district:')\n",
    "cur.execute('''SELECT CityName, COUNT(*) as num_stores \n",
    "               FROM stores \n",
    "               JOIN cities ON stores.CityID = cities.CityID \n",
    "               JOIN subdistricts ON cities.SubDistrictID = subdistricts.SubDistrictID \n",
    "               JOIN districts ON subdistricts.DistrictID = districts.DistrictID \n",
    "               WHERE DistrictName = %s\n",
    "               GROUP BY CityName \n",
    "               ORDER BY num_stores DESC \n",
    "               LIMIT 5''', ('NORTH',))\n",
    "rows = cur.fetchall()\n",
    "for row in rows:\n",
    "    print(row)"
   ]
  },
  {
   "cell_type": "code",
   "execution_count": 16,
   "id": "c9f3924b-2cea-4422-a964-f03087da8e35",
   "metadata": {},
   "outputs": [
    {
     "name": "stdout",
     "output_type": "stream",
     "text": [
      "Present the subdistricts with the number of AM:PM stores in each subdistrict:\n",
      "('TEL AVIV', 36)\n",
      "('TEL AVIV - RAMAT GAN', 6)\n",
      "('HADERA', 2)\n",
      "('PETAH TIKVA', 2)\n",
      "('TEL AVIV - HOLON', 1)\n",
      "('REHOVOT', 1)\n"
     ]
    }
   ],
   "source": [
    "print('Present the subdistricts with the number of AM:PM stores in each subdistrict:')\n",
    "cur.execute(\"\"\"SELECT s.SubDistrictName, COUNT(*) AS num_stores\n",
    "               FROM stores AS st\n",
    "               JOIN cities AS c ON st.CityID = c.CityID\n",
    "               JOIN subdistricts AS s ON c.SubDistrictID = s.SubDistrictID\n",
    "               JOIN subchains AS sc ON st.SubChainID = sc.SubChainID\n",
    "               JOIN chains AS ch ON sc.ChainID = ch.ChainID\n",
    "               WHERE s.SubDistrictName NOT IN (%s) AND sc.SubChainName IN (%s)\n",
    "               GROUP BY s.SubDistrictName\n",
    "               ORDER BY num_stores DESC\"\"\", ('NaN','AM:PM'))\n",
    "rows = cur.fetchall()\n",
    "for row in rows:\n",
    "    print(row)"
   ]
  },
  {
   "cell_type": "code",
   "execution_count": 17,
   "id": "bc8dcabb-89e6-42bf-a49a-b179172773c0",
   "metadata": {},
   "outputs": [
    {
     "name": "stdout",
     "output_type": "stream",
     "text": [
      "Present the subdistricts with the number of AM:PM stores in each subdistrict with at least 2 stores:\n",
      "('TEL AVIV', 36)\n",
      "('TEL AVIV - RAMAT GAN', 6)\n",
      "('HADERA', 2)\n",
      "('PETAH TIKVA', 2)\n"
     ]
    }
   ],
   "source": [
    "print('Present the subdistricts with the number of AM:PM stores in each subdistrict with at least 2 stores:')\n",
    "cur.execute(\"\"\"SELECT s.SubDistrictName, COUNT(*) AS num_stores\n",
    "               FROM stores AS st\n",
    "               JOIN cities AS c ON st.CityID = c.CityID\n",
    "               JOIN subdistricts AS s ON c.SubDistrictID = s.SubDistrictID\n",
    "               JOIN subchains AS sc ON st.SubChainID = sc.SubChainID\n",
    "               JOIN chains AS ch ON sc.ChainID = ch.ChainID\n",
    "               WHERE s.SubDistrictName NOT IN (%s) AND sc.SubChainName IN (%s)\n",
    "               GROUP BY s.SubDistrictName\n",
    "               HAVING COUNT(*) >= 2\n",
    "               ORDER BY num_stores DESC\"\"\", ('NaN','AM:PM'))\n",
    "rows = cur.fetchall()\n",
    "for row in rows:\n",
    "    print(row)"
   ]
  },
  {
   "cell_type": "code",
   "execution_count": 18,
   "id": "f3d448b5-5fcd-4beb-a978-a129c01d530b",
   "metadata": {},
   "outputs": [],
   "source": [
    "#######\n",
    "#cur.execute(\"ROLLBACK\")"
   ]
  },
  {
   "cell_type": "code",
   "execution_count": 19,
   "id": "42c19ca8-b94b-453d-b3af-8b94968685ac",
   "metadata": {},
   "outputs": [],
   "source": [
    "# Close the connection\n",
    "cur.close()\n",
    "conn.close()"
   ]
  },
  {
   "cell_type": "markdown",
   "id": "a0b1a2ff-f232-4090-8dbb-8ed2d8a82fea",
   "metadata": {},
   "source": [
    "#### Delete tables from the database"
   ]
  },
  {
   "cell_type": "code",
   "execution_count": 20,
   "id": "fe207c4e-fca8-44be-b8eb-bfb1e198cb5b",
   "metadata": {},
   "outputs": [],
   "source": [
    "# Connect to the PostgreSQL database\n",
    "conn = psycopg2.connect(\n",
    "    host=\"localhost\",\n",
    "    database=\"retailprices\",\n",
    "    user=\"postgres\",\n",
    "    password=\"xxx\"\n",
    ")\n",
    "\n",
    "cur = conn.cursor()\n",
    "\n",
    "# Drop tables\n",
    "cur.execute('DROP TABLE chains')\n",
    "cur.execute('DROP TABLE subchains')\n",
    "cur.execute('DROP TABLE subchaintype')\n",
    "cur.execute('DROP TABLE stores')\n",
    "\n",
    "# Commit the changes\n",
    "conn.commit()\n",
    "\n",
    "# Close the cursor and connection\n",
    "cur.close()\n",
    "conn.close()"
   ]
  },
  {
   "cell_type": "markdown",
   "id": "589d005b-e0d9-4777-bb89-7d1e9097dd08",
   "metadata": {},
   "source": [
    "#### Delete database from the server"
   ]
  },
  {
   "cell_type": "code",
   "execution_count": 21,
   "id": "4e3e6935-dae6-4dc2-8bbf-ff20c53c100b",
   "metadata": {},
   "outputs": [],
   "source": [
    "conn = psycopg2.connect(\n",
    "    host=\"localhost\",\n",
    "    user=\"postgres\",\n",
    "    password=\"xxx\"\n",
    ")\n",
    "\n",
    "cur = conn.cursor()\n",
    "cur.execute(\"ROLLBACK\")\n",
    "cur.execute(\"DROP DATABASE retailprices\")\n",
    "\n",
    "conn.commit()\n",
    "conn.close()"
   ]
  }
 ],
 "metadata": {
  "kernelspec": {
   "display_name": "sql_try",
   "language": "python",
   "name": "sql_try"
  },
  "language_info": {
   "codemirror_mode": {
    "name": "ipython",
    "version": 3
   },
   "file_extension": ".py",
   "mimetype": "text/x-python",
   "name": "python",
   "nbconvert_exporter": "python",
   "pygments_lexer": "ipython3",
   "version": "3.9.13"
  }
 },
 "nbformat": 4,
 "nbformat_minor": 5
}
